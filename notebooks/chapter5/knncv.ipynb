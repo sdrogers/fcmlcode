{
 "cells": [
  {
   "cell_type": "markdown",
   "id": "a3836f81",
   "metadata": {},
   "source": [
    "## knncv\n",
    "\n",
    "From A First Course in Machine Learning, Chapter 5.\n",
    "\n",
    "Simon Rogers, 01/11/21 [simon.d.rogers@gmail.com]\n",
    "\n",
    "KNN with cross-validation to determine K"
   ]
  },
  {
   "cell_type": "markdown",
   "id": "3bc7d15c",
   "metadata": {},
   "source": [
    "Generate some data with class imbalance"
   ]
  },
  {
   "cell_type": "code",
   "execution_count": 2,
   "id": "9adb0256",
   "metadata": {},
   "outputs": [],
   "source": [
    "import numpy as np\n",
    "import pylab as plt\n",
    "%matplotlib inline"
   ]
  },
  {
   "cell_type": "code",
   "execution_count": 5,
   "id": "7a87a44a",
   "metadata": {},
   "outputs": [
    {
     "data": {
      "text/plain": [
       "<matplotlib.collections.PathCollection at 0x1127dc8e0>"
      ]
     },
     "execution_count": 5,
     "metadata": {},
     "output_type": "execute_result"
    },
    {
     "data": {
      "image/png": "[encoded data removed]",
      "text/plain": [
       "<Figure size 432x288 with 1 Axes>"
      ]
     },
     "metadata": {
      "needs_background": "light"
     },
     "output_type": "display_data"
    }
   ],
   "source": [
    "n = 50\n",
    "X1 = np.random.multivariate_normal(\n",
    "    [0, 0],\n",
    "    np.eye(2),\n",
    "    size=n\n",
    ")\n",
    "X2 = np.random.multivariate_normal(\n",
    "    [2, 2],\n",
    "    np.eye(2),\n",
    "    size=int(n/3)\n",
    ")\n",
    "t1 = np.ones(n, int)\n",
    "t2 = np.zeros(int(n/3), int)\n",
    "\n",
    "X = np.vstack((X1, X2))\n",
    "t = np.hstack((t1, t2))\n",
    "\n",
    "plt.scatter(X[:, 0], X[:, 1], c=t)"
   ]
  },
  {
   "cell_type": "code",
   "execution_count": 6,
   "id": "c28ec50a",
   "metadata": {},
   "outputs": [],
   "source": [
    "class KNN(object):\n",
    "    def __init__(self, X, t, K):\n",
    "        self.X = X\n",
    "        self.t = t\n",
    "        self.K = K\n",
    "        self.classes = sorted(np.unique(self.t))\n",
    "    \n",
    "    def classify(self, testX):\n",
    "        testN, _ = testX.shape\n",
    "        predictions = np.zeros(testN, int)\n",
    "        for n in range(testN):\n",
    "            # compute squared distance between test point and train points\n",
    "            distances = ((self.X - testX[n, :][None, :])**2).sum(axis=1)\n",
    "            \n",
    "            # arg sort to get sorting indices\n",
    "            idx = np.argsort(distances)\n",
    "            \n",
    "            # find the top K classes\n",
    "            votes = self.t[idx[:self.K]]\n",
    "            \n",
    "            # tally the votes\n",
    "            v_counts = [list(votes).count(i) for i in self.classes]\n",
    "            \n",
    "            # sort the counts and keep all tied at the top\n",
    "            count_class = list(zip(v_counts, self.classes))\n",
    "            count_class.sort(key = lambda x: x[0], reverse=True)\n",
    "            possible_classes = []\n",
    "            for count, cl in count_class:\n",
    "                if count == count_class[0][0]:\n",
    "                    possible_classes.append(cl)\n",
    "                else:\n",
    "                    break # must be past the tie\n",
    "            \n",
    "            # randomly break a tie\n",
    "            predictions[n] = np.random.choice(possible_classes)\n",
    "            \n",
    "        return predictions"
   ]
  },
  {
   "cell_type": "markdown",
   "id": "65dba446",
   "metadata": {},
   "source": [
    "Do some cross-validation"
   ]
  },
  {
   "cell_type": "code",
   "execution_count": 26,
   "id": "594f00d0",
   "metadata": {},
   "outputs": [],
   "source": [
    "from sklearn.model_selection import KFold\n",
    "N_FOLD = 5\n",
    "MAX_K = 30\n",
    "\n",
    "# create the kfold splitter, make sure we shuffle\n",
    "kf = KFold(n_splits=N_FOLD, shuffle=True)\n",
    "all_error = {}\n",
    "\n",
    "# loop over folds\n",
    "for train_index, test_index in kf.split(X):\n",
    "    # loop over K\n",
    "    for K in range(1, MAX_K + 1):\n",
    "        if not K in all_error:\n",
    "            all_error[K] = []\n",
    "            \n",
    "        trainX, traint = X[train_index], t[train_index]\n",
    "        testX, testt = X[test_index], t[test_index]\n",
    "\n",
    "        preds = KNN(trainX, traint, K).classify(testX)\n",
    "        \n",
    "        error = (preds != testt).mean()\n",
    "        all_error[K].append(error)"
   ]
  },
  {
   "cell_type": "markdown",
   "id": "263426a6",
   "metadata": {},
   "source": [
    "Plot the mean error as a function of K"
   ]
  },
  {
   "cell_type": "code",
   "execution_count": 27,
   "id": "1dc33204",
   "metadata": {},
   "outputs": [
    {
     "data": {
      "text/plain": [
       "Text(0, 0.5, 'Mean CV error')"
      ]
     },
     "execution_count": 27,
     "metadata": {},
     "output_type": "execute_result"
    },
    {
     "data": {
      "image/png": "[encoded data removed]",
      "text/plain": [
       "<Figure size 432x288 with 1 Axes>"
      ]
     },
     "metadata": {
      "needs_background": "light"
     },
     "output_type": "display_data"
    }
   ],
   "source": [
    "mean_error = [(K, np.array(all_error[K]).mean()) for K in all_error]\n",
    "K_vals, error_vals = zip(*mean_error)\n",
    "plt.plot(K_vals, error_vals, 'ro-')\n",
    "plt.xlabel('K')\n",
    "plt.ylabel('Mean CV error')"
   ]
  },
  {
   "cell_type": "code",
   "execution_count": null,
   "id": "2b95c59d",
   "metadata": {},
   "outputs": [],
   "source": []
  }
 ],
 "metadata": {
  "kernelspec": {
   "display_name": "Python 3 (ipykernel)",
   "language": "python",
   "name": "python3"
  },
  "language_info": {
   "codemirror_mode": {
    "name": "ipython",
    "version": 3
   },
   "file_extension": ".py",
   "mimetype": "text/x-python",
   "name": "python",
   "nbconvert_exporter": "python",
   "pygments_lexer": "ipython3",
   "version": "3.9.7"
  }
 },
 "nbformat": 4,
 "nbformat_minor": 5
}
